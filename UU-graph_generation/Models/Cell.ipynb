{
 "cells": [
  {
   "cell_type": "markdown",
   "id": "66127740-cd4a-48ff-ba77-15f341dbd790",
   "metadata": {},
   "source": [
    "# NetGAN without GAN: CELL model"
   ]
  },
  {
   "cell_type": "markdown",
   "id": "a38276b4-6544-450e-a5b2-25850e38d03a",
   "metadata": {},
   "source": [
    "The Cell model (*Cross-Entropy Low-rank Logits*) arises by the conjecture that the key ingredient of NetGAN is to learn the RW distribution by performing a low-rank approximation of the logit transition matrix.\n",
    "\n",
    "In CELL, the generalization is boiled down to a low-rank approximation problem where the\n",
    "goal is to approximate the transition matrix of an original graph G and use it to sample a new\n",
    "graph ˆG from the same distribution. The problem is defined as:\n",
    "\n",
    "$$\\min_{W\\in\\mathbb{R^{N\\times N}}}{-\\sum_{(k,l)\\in\\mathcal{R}}}{\\log{\\sigma_{rows}(W)_{k,l}}}$$\n",
    "\n",
    "such that $rank(W)\\leq H$.\n",
    "\n",
    "Where (k, l) P R denotes all transitions of random walks in the original graph G. The goal is\n",
    "to minimize the cross-entropy loss for the learned transition matrix that is given by applying\n",
    "the softmax function row-wise to the low rank approximation W. In other words, we want\n",
    "to maximize the likelihood of the transition matrix implied by our low rank approximation,\n",
    "given the random walks in G"
   ]
  },
  {
   "cell_type": "markdown",
   "id": "db0d9f99-7400-4416-b5f1-5995260f978a",
   "metadata": {},
   "source": []
  },
  {
   "cell_type": "code",
   "execution_count": null,
   "id": "a6412c3e-e96f-416e-ac5d-6eb33df2f14f",
   "metadata": {},
   "outputs": [],
   "source": []
  }
 ],
 "metadata": {
  "kernelspec": {
   "display_name": "Python 3 (ipykernel)",
   "language": "python",
   "name": "python3"
  },
  "language_info": {
   "codemirror_mode": {
    "name": "ipython",
    "version": 3
   },
   "file_extension": ".py",
   "mimetype": "text/x-python",
   "name": "python",
   "nbconvert_exporter": "python",
   "pygments_lexer": "ipython3",
   "version": "3.11.5"
  }
 },
 "nbformat": 4,
 "nbformat_minor": 5
}
