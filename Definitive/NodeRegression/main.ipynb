{
 "cells": [
  {
   "cell_type": "markdown",
   "id": "79c7b131-ea58-4569-84f9-a519215b5554",
   "metadata": {},
   "source": [
    "First of all, it is necessary to equip ourselves with the required packages. \n",
    "Please run on your terminal:\n",
    "\n",
    "                                            `pip install -r requirements.txt`\n",
    "\n",
    "I'd suggest creating a separate virtual env to do so just to protect everything else you have on your computer. Unfortunately some nasty packages are required and the operation may take a while. Please consider that the `requirements.txt` list includes only few of these packages and while running the notebook it may happen to install additional packages. If possible, reports this packages and update the list. "
   ]
  },
  {
   "cell_type": "code",
   "execution_count": 1,
   "id": "81b8c2e7-9703-41d8-9585-ae4dec7e82dd",
   "metadata": {},
   "outputs": [],
   "source": [
    "import numpy as np\n",
    "from CIR import get_CIR\n",
    "import numpy as np\n",
    "import matplotlib.pyplot as plt\n",
    "from tqdm.notebook import tqdm\n",
    "import torch\n",
    "import torch.nn as nn\n",
    "import torch.utils.data as data\n",
    "import numpy as np\n",
    "from simulation import Simulation, Contract\n",
    "from torch.utils.data import TensorDataset, Dataset, DataLoader\n",
    "import Sandbox_utils as utils\n",
    "import dataset_managment\n",
    "import model_managment\n",
    "import train_managment\n",
    "import torch_geometric\n",
    "\n",
    "from GCLSTM import GCLSTM"
   ]
  },
  {
   "cell_type": "markdown",
   "id": "5bc21b45-8e08-4b71-a67c-bba61d5cfe53",
   "metadata": {},
   "source": [
    "We will divide our discussion into 2 steps: the first part is model **training**, the second one is related to its evaluation.\n",
    "\n",
    "First of all we need to fix a 'device' over which we will run our code. I'd suggest using 'cuda' or andother GPU kernel whenever possible, especially when it comes to fitting the model.  "
   ]
  },
  {
   "cell_type": "code",
   "execution_count": 2,
   "id": "553eba21-452e-4be8-b9f7-35037354b328",
   "metadata": {},
   "outputs": [
    {
     "name": "stdout",
     "output_type": "stream",
     "text": [
      "Device:  cpu\n"
     ]
    }
   ],
   "source": [
    "# Fix current device\n",
    "device = (\n",
    "    \"cuda:0\"\n",
    "    if torch.cuda.is_available()\n",
    "    else \"mps\"      #MacOS\n",
    "    if torch.backends.mps.is_available()\n",
    "    else \"cpu\"\n",
    ")\n",
    "\n",
    "#Unccoment here, is just for Matteo's testing \n",
    "device = 'cpu'\n",
    "\n",
    "print('Device: ', device)"
   ]
  },
  {
   "cell_type": "markdown",
   "id": "84444133-13ec-4dec-bce5-20d6e20fd22f",
   "metadata": {},
   "source": [
    "It is quite useful to use `argparse` as we can pass a lot of parameters both through a dictionary and a `.yaml` file. Here on the notebook its just a simple dictionary."
   ]
  },
  {
   "cell_type": "code",
   "execution_count": 3,
   "id": "71822acf-40a7-4da1-9017-f0bf7e465887",
   "metadata": {},
   "outputs": [],
   "source": [
    "import argparse\n",
    "\n",
    "def dict_to_args(dictionary):\n",
    "    parser = argparse.ArgumentParser()\n",
    "    \n",
    "    for key, value in dictionary.items():\n",
    "        parser.add_argument(f'--{key}', type=type(value), default=value)\n",
    "    \n",
    "    return parser.parse_args([])"
   ]
  },
  {
   "cell_type": "code",
   "execution_count": 4,
   "id": "2c4118d5-13de-464c-b122-9f826ec0805c",
   "metadata": {},
   "outputs": [],
   "source": [
    "#List of multiple parameters used both during simulation and \n",
    "args = { \n",
    "    'lookback' : 5,\n",
    "    'num_nodes' : 5,\n",
    "    'alpha' : 0.6,\n",
    "    'b' : 0.04,\n",
    "    'sigma' : 0.14,\n",
    "    'v_0' : 0.04,\n",
    "    'years' : 60,\n",
    "    'gamma' : 3,\n",
    "    'steps_ahead' : 5,\n",
    "    'lstm_hidden_size' : 15,\n",
    "    'regressor_hidden_size' : 512,\n",
    "    'regressor_hidden_size_2' : 512,\n",
    "    'number_regressor_layers' : 2,\n",
    "    'input_size' : 36,\n",
    "    'contract_size' : 6,\n",
    "    'device': 'cpu',\n",
    "    'batch_size' : 500\n",
    "    \n",
    "}\n",
    "\n",
    "args = dict_to_args(args)"
   ]
  },
  {
   "cell_type": "code",
   "execution_count": null,
   "id": "7aba37d6-c8f2-48dc-87ad-cc1a59e3605f",
   "metadata": {},
   "outputs": [],
   "source": []
  }
 ],
 "metadata": {
  "kernelspec": {
   "display_name": "Python 3 (ipykernel)",
   "language": "python",
   "name": "python3"
  },
  "language_info": {
   "codemirror_mode": {
    "name": "ipython",
    "version": 3
   },
   "file_extension": ".py",
   "mimetype": "text/x-python",
   "name": "python",
   "nbconvert_exporter": "python",
   "pygments_lexer": "ipython3",
   "version": "3.11.5"
  }
 },
 "nbformat": 4,
 "nbformat_minor": 5
}
