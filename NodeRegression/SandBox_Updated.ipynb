{
 "cells": [
  {
   "cell_type": "code",
   "execution_count": 1,
   "id": "65dc3dbd-e49b-4beb-83eb-4ef7aaa2351a",
   "metadata": {},
   "outputs": [],
   "source": [
    "import numpy as np\n",
    "from CIR import get_CIR\n",
    "import numpy as np\n",
    "import matplotlib.pyplot as plt\n",
    "from tqdm.notebook import tqdm\n",
    "import torch\n",
    "import torch.nn as nn\n",
    "import torch.optim as optim\n",
    "import torch.utils.data as data\n",
    "import numpy as np\n",
    "from simulation import Simulation\n",
    "from torch.utils.data import TensorDataset, Dataset, DataLoader, Subset\n",
    "\n",
    "from sklearn.preprocessing import MinMaxScaler, StandardScaler"
   ]
  },
  {
   "cell_type": "code",
   "execution_count": 2,
   "id": "61864721-9f29-410a-a8f7-0a67b5efcc93",
   "metadata": {},
   "outputs": [],
   "source": [
    "device = (\n",
    "    \"cuda\"\n",
    "    if torch.cuda.is_available()\n",
    "    else \"mps\"\n",
    "    if torch.backends.mps.is_available()\n",
    "    else \"cpu\"\n",
    ")"
   ]
  },
  {
   "cell_type": "code",
   "execution_count": 3,
   "id": "cbf7fb9f",
   "metadata": {},
   "outputs": [
    {
     "data": {
      "text/plain": [
       "'cuda'"
      ]
     },
     "execution_count": 3,
     "metadata": {},
     "output_type": "execute_result"
    }
   ],
   "source": [
    "device"
   ]
  },
  {
   "cell_type": "code",
   "execution_count": 4,
   "id": "c2ad4f95-552f-4cc9-8eb2-34dc81ef6f97",
   "metadata": {},
   "outputs": [],
   "source": [
    "# I am setting v_0=b, so we start the process in its long-term mean\n",
    "\n",
    "alpha = 0.6\n",
    "b = 0.04\n",
    "sigma = 0.14\n",
    "v_0 = 0.04\n",
    "years = 60\n",
    "gamma = 0.4\n",
    "\n",
    "sim = Simulation(alpha, b, sigma, v_0, years, gamma = gamma, seed=True)"
   ]
  },
  {
   "cell_type": "code",
   "execution_count": 5,
   "id": "1fcbbee6-1323-486d-8d35-953482359ef8",
   "metadata": {},
   "outputs": [
    {
     "name": "stdout",
     "output_type": "stream",
     "text": [
      "Simulation horizon:  21900\n",
      "Arrival times:  [    0   380   760  1140  1520  1900  2280  2660  3040  3420  3800  4180\n",
      "  4560  4940  5320  5700  6080  6460  6840  7220  7600  7980  8360  8740\n",
      "  9120  9500  9880 10260 10640 11020 11400 11780 12160 12540 12920 13300\n",
      " 13680 14060 14440 14820 15200 15580 15960 16340 16720 17100 17480 17860\n",
      " 18240 18620 19000 19380 19760 20140 20520 20900 21280 21660]\n"
     ]
    }
   ],
   "source": [
    "# Create a new contract every 380 days\n",
    "arrival_times = np.array([i*380 for i in range(years) if i*380 < 365*years])\n",
    "print('Simulation horizon: ', sim.TotPoints)\n",
    "print('Arrival times: ', arrival_times)"
   ]
  },
  {
   "cell_type": "code",
   "execution_count": 6,
   "id": "2f399165-8e12-4f47-9045-014ac1a63d98",
   "metadata": {},
   "outputs": [],
   "source": [
    "class Contract:\n",
    "\n",
    "    def __init__(self, t_0, sim):\n",
    "        # contract start time\n",
    "        self.t_0 = int(t_0)\n",
    "        # contract end time\n",
    "        self.T = self.t_0 + 365\n",
    "        self.delta = 1.\n",
    "        self.sim = sim\n",
    "\n",
    "    def get_contract_features(self, t):\n",
    "        t = int(t)\n",
    "        contract = torch.tensor([(self.T - t)/365.,                                      # (T-t)/365\n",
    "                             np.log(self.sim.Price(self.t_0, self.T)),                   # p(t_0, T)\n",
    "                             np.log(self.sim.Price(t, self.T))])#,                       # p(t, T)\n",
    "                             #COMMENTED: FOCUS ON FIXED LEG\n",
    "                             #np.log(self.sim.B(self.t_0)),                               # B_t_0\n",
    "                             #np.log(self.sim.B(t))])#,                                   # B_t\n",
    "                             #self.sim.MarkToMarketPrice(1, self.t_0, t, self.T)])       # V(t)\n",
    "        return contract\n",
    "\n",
    "    def is_active(self, t):\n",
    "        t = int(t)\n",
    "        if t >= self.t_0 and t <= self.T:\n",
    "            return True\n",
    "        else:\n",
    "            return False"
   ]
  },
  {
   "cell_type": "markdown",
   "id": "1ec09e0d-217f-4ba3-9ddd-c18dc2b8c238",
   "metadata": {},
   "source": [
    "# Create dataset"
   ]
  },
  {
   "cell_type": "code",
   "execution_count": 7,
   "id": "f60d2dda-d66b-4c36-a7eb-fcb3a70b7256",
   "metadata": {},
   "outputs": [
    {
     "name": "stdout",
     "output_type": "stream",
     "text": [
      "Max number of simultaneously active contracts: 1\n"
     ]
    },
    {
     "name": "stderr",
     "output_type": "stream",
     "text": [
      "/u/mcitterio/temp/Generative-models-for-financial-networks/NodeRegression/simulation.py:183: RuntimeWarning: divide by zero encountered in divide\n",
      "  return np.where(condition, 0, (tau>0)*(-1 / tau) * ((price(t_0, T) - 1) / price(t_0, T)) )\n",
      "/u/mcitterio/temp/Generative-models-for-financial-networks/NodeRegression/simulation.py:183: RuntimeWarning: invalid value encountered in multiply\n",
      "  return np.where(condition, 0, (tau>0)*(-1 / tau) * ((price(t_0, T) - 1) / price(t_0, T)) )\n"
     ]
    }
   ],
   "source": [
    "# Create contracts\n",
    "contracts = []\n",
    "for arrival_time in arrival_times:\n",
    "    contract = Contract(arrival_time, sim)\n",
    "    contracts.append(contract)\n",
    "\n",
    "# Compute maximum number of simultaneously active contracts\n",
    "max_n_active_contracts = 0\n",
    "for t in range(sim.TotPoints):\n",
    "    n_active_contracts = np.sum([contract.is_active(t) for contract in contracts])\n",
    "    if n_active_contracts > max_n_active_contracts:\n",
    "        max_n_active_contracts = n_active_contracts\n",
    "\n",
    "print(f\"Max number of simultaneously active contracts: {max_n_active_contracts}\")\n",
    "\n",
    "# Create dataset (features + target)\n",
    "n_contract_features = len(contracts[0].get_contract_features(0))\n",
    "# features\n",
    "X = torch.zeros((sim.TotPoints, max_n_active_contracts*n_contract_features)) \n",
    "# targets\n",
    "y_float = torch.zeros(sim.TotPoints) \n",
    "y_fixed = torch.zeros(sim.TotPoints)\n",
    "\n",
    "for i_time, t in enumerate(range(sim.TotPoints-1)):\n",
    "    active_contracts = [contract for contract in contracts if contract.is_active(t)]\n",
    "    for i_contract, contract in enumerate(active_contracts):\n",
    "        \n",
    "        contract_features = contract.get_contract_features(t)\n",
    "        X[i_time, i_contract*len(contract_features) : (i_contract+1)*len(contract_features)] = contract_features\n",
    "        \n",
    "        # The targets are summed across active contracts, so we get the net value across contracts\n",
    "        # (e.g. net variation margin or net value of contracts)\n",
    "        \n",
    "        #COMMENTED: FOCUS ON SINGLE LEGS\n",
    "        #y[i_time] += sim.MarkToMarketPrice(contract.delta, contract.t_0, t, contract.T)\n",
    "        \n",
    "        y_float[i_time] += np.log(sim.GetFloatingLeg(contract.t_0, t) )\n",
    "        y_fixed[i_time] += np.log(sim.GetFixedLeg(contract.t_0, t, contract.T))\n",
    "        "
   ]
  },
  {
   "cell_type": "code",
   "execution_count": 8,
   "id": "bf05c5c7-1940-47b5-bfd0-b100ffbba27e",
   "metadata": {},
   "outputs": [],
   "source": [
    "# Old code (written by Matteo, before Feb 15)\n",
    "\n",
    "# def prepare_contract(arrival_time, sim, t):\n",
    "#     contract = np.zeros(6)\n",
    "#     contract[0] = int(arrival_time + 365 - t)/365                                 #(T-t)/365 ()   \n",
    "#     contract[1] = +1 #np.random.choice ([-1,1])                                   #delta\n",
    "#     contract[2] = sim.Price(int(arrival_time), int(arrival_time + 365))           #p(t_0, T)    \n",
    "#     contract[3] = sim.Price(int(t), int(arrival_time + 365))                      #p(t, T)      \n",
    "#     contract[4] = np.prod(1+(sim.CIRProcess[0:arrival_time+1]*1/365))             #B_t_0.       \n",
    "#     contract[5] = sim.MarkToMarketPrice(+1, arrival_time, t, arrival_time + 365)  #V(t) \n",
    "#     return contract\n",
    "    \n",
    "# def get_arrival_time(t):\n",
    "#     return (t//380)*380\n",
    "\n",
    "# X = []\n",
    "# #I need an auxiliary array that contains (t_0, T, delta) so that i can use `Simulation` methods to compute the targets M_t\n",
    "# X_for_simulation = []\n",
    "\n",
    "# for i in range(years):\n",
    "    \n",
    "#     for t in range((i*380), np.minimum((i*380) + 364 +1, sim.TotPoints)):\n",
    "        \n",
    "#         arrival_time = get_arrival_time(t)\n",
    "#         contract = prepare_contract(arrival_time, sim, t)\n",
    "        \n",
    "#         X.append(contract)\n",
    "#         X_for_simulation.append(np.array([arrival_time, arrival_time + 364, +1]))\n",
    "    \n",
    "#     for i in range(np.minimum((i*380) + 364, sim.TotPoints), np.minimum(((i+1) * 380) - 1, sim.TotPoints)):\n",
    "        \n",
    "#         X.append(np.zeros((6)))\n",
    "#         X_for_simulation.append(np.zeros((3)))\n",
    "\n",
    "\n",
    "# print('Len X: ', len(X))\n",
    "# print('Len auxiliary X: ', len(X_for_simulation))\n",
    "\n",
    "\n",
    "# #Let's put them into tensors\n",
    "# X = torch.tensor(np.stack(X))\n",
    "# X_for_simulation = torch.tensor(np.stack(X_for_simulation))\n",
    "\n",
    "\n",
    "# #Define targets\n",
    "# targets_vt = np.zeros((len(X)))   #Contains V(t) for t\\in [0, sim.totPoints -1]\n",
    "# #targets_vt_1 = np.zeros((len(X)-1)) #Contains V(t+1) for t\\in [0, sim.totPoints]\n",
    "# #targets_mt_1 = np.zeros((len(X)-1)) #Contains M(t+1) for t\\in [0, sim.totPoints]\n",
    "\n",
    "\n",
    "# #Fill targets\n",
    "# for i in range(years):\n",
    "    \n",
    "#     start_index = (i * 380)\n",
    "#     end_index = np.minimum((i*380) + 364 + 1, sim.TotPoints)\n",
    "    \n",
    "#     vt = np.asarray([sim.MarkToMarketPrice(+1, int(X_for_simulation[t,0]), t, int(X_for_simulation[t,1])) for t in range((i * 380), np.minimum((i*380) + 364 +1, sim.TotPoints))])\n",
    "#     #vt1 = np.asarray([sim.MarkToMarketPrice(+1, int(X_for_simulation[t+1,0]), t+1, int(X_for_simulation[t+1,1])) for t in range((i * 380), np.minimum((i*380) + 364 +1, sim.TotPoints-1))])\n",
    "#     #mt1 = np.asarray([sim.GetInstantContractMarginValue(t+1, X_for_simulation[t+1]) for t in range((i * 380), np.minimum((i*380) + 364 +1 , sim.TotPoints-1))])\n",
    "\n",
    "#     #targets_mt_1[ start_index : end_index] = mt1\n",
    "#     targets_vt[ start_index : end_index] = vt\n",
    "#     #targets_vt_1[ start_index : end_index] = vt1\n"
   ]
  },
  {
   "cell_type": "code",
   "execution_count": 9,
   "id": "352b75fa-e737-47f7-84d2-a9c3f5022ad8",
   "metadata": {},
   "outputs": [],
   "source": [
    "# #For scaling the targets\n",
    "# def scale_target(target, training_index):\n",
    "#     \"\"\"\n",
    "#     Scales and reshape the tensor so that it has shape [sim.totPoints -1 , 1]\n",
    "#     \"\"\"\n",
    "\n",
    "#     target = target.clone().detach().reshape(-1,1)\n",
    "    \n",
    "#     scaler = MinMaxScaler()\n",
    "#     scaler.fit(target[:training_index].cpu())\n",
    "#     scaler.scale_ /= 1.25\n",
    "\n",
    "#     target = scaler.transform(target.cpu())\n",
    "#     return torch.tensor(target).to(torch.float32).to(device)"
   ]
  },
  {
   "cell_type": "code",
   "execution_count": 10,
   "id": "a06641ed-8dd8-4e09-a971-9dfcd4b16fdc",
   "metadata": {},
   "outputs": [],
   "source": [
    "# Train-test split\n",
    "\n",
    "training_index = int(0.8 * X.shape[0])\n",
    "\n",
    "CIRProcess = torch.tensor(sim.CIRProcess.reshape(-1,1)).to(torch.float32).to(device)\n",
    "\n",
    "#Prepare both legs\n",
    "y_float_train = y_float[:training_index]\n",
    "y_fixed_train = y_fixed[:training_index]\n",
    "X_train = X[:training_index, :]\n",
    "CIR_train = CIRProcess[:training_index]\n",
    "\n",
    "y_float_test = y_float[training_index:]\n",
    "y_fixed_test = y_fixed[training_index:]\n",
    "X_test = X[training_index:, :]\n",
    "CIR_test = CIRProcess[training_index:]"
   ]
  },
  {
   "cell_type": "code",
   "execution_count": 11,
   "id": "4be7f0dd",
   "metadata": {},
   "outputs": [],
   "source": [
    "def create_windows(features, targets_float, targets_fixed, r, lookback):\n",
    "    \"\"\"\n",
    "    Windows the dataset\n",
    "    \"\"\"\n",
    "    n_samples = features.shape[0] - lookback\n",
    "\n",
    "    X_data = torch.zeros(n_samples, lookback, features.shape[1])\n",
    "    y_float_data = torch.zeros(n_samples, 1)\n",
    "    y_fixed_data = torch.zeros(n_samples, 1)\n",
    "    r_data = torch.zeros(n_samples, 1)\n",
    "\n",
    "    for i_sample in range(n_samples):\n",
    "\n",
    "        X_data[i_sample, :] = features[i_sample : i_sample + lookback]   #it takes data in [i_sample, i_sample+lookback)\n",
    "        y_float_data[i_sample, 0] = targets_float[i_sample + lookback]   #it takes [i_sample + lookback] which is +1 time shifted w.r.t. the feature set\n",
    "        y_fixed_data[i_sample, 0] = targets_fixed[i_sample + lookback]\n",
    "        r_data[i_sample, 0] = r[i_sample + lookback]\n",
    "        \n",
    "    return X_data.to(torch.float32).to(device), y_float_data.to(torch.float32).to(device), y_fixed_data.to(torch.float32).to(device), r_data.to(torch.float32).to(device)\n",
    "    "
   ]
  },
  {
   "cell_type": "code",
   "execution_count": 12,
   "id": "dc288f61-9961-4124-884b-c3d25941b4b7",
   "metadata": {},
   "outputs": [],
   "source": [
    "# Slice dataset into windows\n",
    "\n",
    "lookback = 10\n",
    "X_train, y_float_train, y_fixed_train, r_train = create_windows(X_train, y_float_train, y_fixed_train, CIR_train, lookback=lookback)\n",
    "X_test, y_float_test, y_fixed_test, r_test = create_windows(X_test, y_float_test, y_fixed_test, CIR_test, lookback=lookback)\n"
   ]
  },
  {
   "cell_type": "code",
   "execution_count": 13,
   "id": "1915ad70",
   "metadata": {},
   "outputs": [
    {
     "data": {
      "image/png": "[encoded data removed]",
      "text/plain": [
       "<Figure size 640x480 with 1 Axes>"
      ]
     },
     "metadata": {},
     "output_type": "display_data"
    }
   ],
   "source": [
    "plt.plot(y_fixed_train.cpu(), label='V_fixed(t+1)')\n",
    "plt.plot(y_float_train.cpu(), label='V_float(t+1)')\n",
    "plt.xlim(-1,1000)\n",
    "plt.legend()\n",
    "plt.show()"
   ]
  },
  {
   "cell_type": "code",
   "execution_count": 14,
   "id": "91628ca0-4a63-4848-bad5-9d465b2f3ffd",
   "metadata": {},
   "outputs": [],
   "source": [
    "#Build the pytorch datasets and dataloaders\n",
    "train_dataset = TensorDataset(X_train.to(device), y_float_train.to(device), y_fixed_train.to(device), r_train.to(device))\n",
    "test_dataset = TensorDataset(X_test.to(device), y_float_test.to(device), y_fixed_test.to(device), r_test.to(device))\n",
    "\n",
    "loader = DataLoader(train_dataset, shuffle=True, batch_size=1000)\n",
    "loader_test = DataLoader(test_dataset, shuffle=True, batch_size = 1000)"
   ]
  },
  {
   "cell_type": "code",
   "execution_count": 15,
   "id": "b8efc0b6-5b6d-4e45-bfed-284abca37f99",
   "metadata": {},
   "outputs": [],
   "source": [
    "#define the model\n",
    "class model(nn.Module):\n",
    "\n",
    "    def __init__(self):\n",
    "        super(model, self).__init__()\n",
    "\n",
    "        input_size = 3\n",
    "        lstm_hidden_size = 5\n",
    "        lstm_n_layers = 1\n",
    "        regressor_hidden_size = 256\n",
    "        self.name=regressor_hidden_size\n",
    "\n",
    "        self.lstm = torch.nn.LSTM(input_size=input_size, \n",
    "                             hidden_size=lstm_hidden_size, \n",
    "                             num_layers=lstm_n_layers)\n",
    "        \n",
    "        #Il +1 è perchè facciamo il concat con il reference interest rate\n",
    "        self.regressor = nn.Sequential(nn.Linear(lstm_hidden_size+1, regressor_hidden_size),\n",
    "                                       nn.ReLU(),\n",
    "                                       nn.Linear(regressor_hidden_size, regressor_hidden_size),\n",
    "                                       nn.ReLU(),\n",
    "                                       nn.Linear(regressor_hidden_size, 1))\n",
    "        \n",
    "        self.reset_parameters()\n",
    "\n",
    "    def forward(self, x, r):\n",
    "\n",
    "        lstm_hidden, _ = self.lstm(x)\n",
    "        return self.regressor(torch.squeeze(torch.cat([lstm_hidden[:,-1,:], 1.+r/365.],dim=1)))\n",
    "    \n",
    "    def reset_parameters(self):\n",
    "\n",
    "        self.lstm.reset_parameters()\n",
    "        for layer in [self.regressor]:\n",
    "            if hasattr(layer, 'reset_parameters'):\n",
    "                layer.reset_parameters()"
   ]
  },
  {
   "cell_type": "code",
   "execution_count": 16,
   "id": "bf9aaf12-22df-4b54-8604-674fa21f4dda",
   "metadata": {},
   "outputs": [],
   "source": [
    "#Let's get towards the training:\n",
    "\n",
    "lr = 5e-2                         #Learning rate\n",
    "criterion = nn.MSELoss()           #Loss function\n",
    "\n",
    "#Define the model\n",
    "mymodel = model().to(device)    \n",
    "\n",
    "#optimizer & scheduler\n",
    "optimizer = torch.optim.Adam(mymodel.parameters(), lr=lr)\n",
    "scheduler = torch.optim.lr_scheduler.MultiStepLR(optimizer, milestones=[100*i for i in range(100)], gamma=0.9)\n",
    "\n",
    "n_epochs = 10000                   #Number of epochs\n",
    "\n",
    "#Early stopping parameters\n",
    "patience = 30                      #Number of consecutive epochs to wait for improvement"
   ]
  },
  {
   "cell_type": "code",
   "execution_count": 17,
   "id": "9d073f1e-fbeb-43b7-8179-03ef9b01a4e8",
   "metadata": {},
   "outputs": [
    {
     "data": {
      "text/plain": [
       "model(\n",
       "  (lstm): LSTM(3, 5)\n",
       "  (regressor): Sequential(\n",
       "    (0): Linear(in_features=6, out_features=256, bias=True)\n",
       "    (1): ReLU()\n",
       "    (2): Linear(in_features=256, out_features=256, bias=True)\n",
       "    (3): ReLU()\n",
       "    (4): Linear(in_features=256, out_features=1, bias=True)\n",
       "  )\n",
       ")"
      ]
     },
     "execution_count": 17,
     "metadata": {},
     "output_type": "execute_result"
    }
   ],
   "source": [
    "#print the model\n",
    "mymodel"
   ]
  },
  {
   "cell_type": "code",
   "execution_count": 18,
   "id": "2554d4b0-3f13-456a-8027-ce64b1389fa4",
   "metadata": {},
   "outputs": [],
   "source": [
    "def do_epoch(loader, model, criterion, optimizer, training=True):\n",
    "    \"\"\"\n",
    "    Trains the model over the batches for an epoch\n",
    "    \"\"\"\n",
    "    \n",
    "    #Instantiate a temp variable that tracks the average loss for the batches\n",
    "    temp_loss = 0\n",
    "\n",
    "    #Loop over data batches\n",
    "    for X_batch, y_float_batch, y_fixed_batch, r_batch in loader:\n",
    "\n",
    "        #.forward() method of the model, will output both V_float and V_fixed\n",
    "        y_pred = model(X_batch, r_batch)\n",
    "        #y_float_pred = y_pred\n",
    "        y_fixed_pred = y_pred\n",
    "        \n",
    "        #y_float_pred, y_fixed_pred = y_pred[:,0], y_pred[:,1]\n",
    "\n",
    "        #Compute the loss - FOCUS ON FIXED LEG\n",
    "        loss = criterion(y_fixed_pred.squeeze(), y_fixed_batch.squeeze()) #+ criterion(y_fixed_pred, y_fixed_batch.squeeze())\n",
    "\n",
    "        #If we are actually training the model instead of permorming validation\n",
    "        if training:\n",
    "\n",
    "            #Backpropagation\n",
    "            loss.backward()\n",
    "    \n",
    "            #Optimizer step\n",
    "            optimizer.step() \n",
    "            optimizer.zero_grad()\n",
    "\n",
    "        #Track the batch loss\n",
    "        temp_loss += loss.item()\n",
    "\n",
    "    #Take the average loss over the batches\n",
    "    return temp_loss / len(loader)"
   ]
  },
  {
   "cell_type": "code",
   "execution_count": 19,
   "id": "212d257f-5a48-4cfe-828c-d563b271454e",
   "metadata": {},
   "outputs": [],
   "source": [
    "#Early stopping class\n",
    "class EarlyStopping:\n",
    "    def __init__(self, patience):\n",
    "        self.patience = patience\n",
    "        self.counter = 0\n",
    "        self.best_score = 10\n",
    "        self.early_stop = False\n",
    "\n",
    "    def __call__(self, val_loss, model):\n",
    "    \n",
    "        if val_loss > self.best_score:\n",
    "\n",
    "            self.counter += 1\n",
    "            if self.counter >= self.patience:\n",
    "                self.early_stop = True\n",
    "        else:\n",
    "\n",
    "            self.best_score = val_loss\n",
    "            self.save_checkpoint(model)\n",
    "            self.counter = 0\n",
    "\n",
    "    def save_checkpoint(self, model):\n",
    "        torch.save(model.state_dict(), f'temp_state_dict{mymodel.name}.pt')"
   ]
  },
  {
   "cell_type": "code",
   "execution_count": 20,
   "id": "199c0302-dfef-4642-91c2-48a34f92a681",
   "metadata": {},
   "outputs": [
    {
     "data": {
      "application/vnd.jupyter.widget-view+json": {
       "model_id": "edc2f034e0834f29af978f642f148e42",
       "version_major": 2,
       "version_minor": 0
      },
      "text/plain": [
       "  0%|          | 0/10000 [00:00<?, ?it/s]"
      ]
     },
     "metadata": {},
     "output_type": "display_data"
    },
    {
     "ename": "KeyboardInterrupt",
     "evalue": "",
     "output_type": "error",
     "traceback": [
      "\u001b[0;31m---------------------------------------------------------------------------\u001b[0m",
      "\u001b[0;31mKeyboardInterrupt\u001b[0m                         Traceback (most recent call last)",
      "Cell \u001b[0;32mIn[20], line 18\u001b[0m\n\u001b[1;32m     15\u001b[0m mymodel\u001b[38;5;241m.\u001b[39mtrain()\n\u001b[1;32m     17\u001b[0m \u001b[38;5;66;03m#Perform an epoch of training\u001b[39;00m\n\u001b[0;32m---> 18\u001b[0m train_loss \u001b[38;5;241m=\u001b[39m \u001b[43mdo_epoch\u001b[49m\u001b[43m(\u001b[49m\u001b[43mloader\u001b[49m\u001b[43m,\u001b[49m\u001b[43m \u001b[49m\u001b[43mmymodel\u001b[49m\u001b[43m,\u001b[49m\u001b[43m \u001b[49m\u001b[43mcriterion\u001b[49m\u001b[43m,\u001b[49m\u001b[43m \u001b[49m\u001b[43moptimizer\u001b[49m\u001b[43m)\u001b[49m\n\u001b[1;32m     20\u001b[0m \u001b[38;5;66;03m#Scheduler step\u001b[39;00m\n\u001b[1;32m     21\u001b[0m scheduler\u001b[38;5;241m.\u001b[39mstep()\n",
      "Cell \u001b[0;32mIn[18], line 10\u001b[0m, in \u001b[0;36mdo_epoch\u001b[0;34m(loader, model, criterion, optimizer, training)\u001b[0m\n\u001b[1;32m      7\u001b[0m temp_loss \u001b[38;5;241m=\u001b[39m \u001b[38;5;241m0\u001b[39m\n\u001b[1;32m      9\u001b[0m \u001b[38;5;66;03m#Loop over data batches\u001b[39;00m\n\u001b[0;32m---> 10\u001b[0m \u001b[38;5;28;01mfor\u001b[39;00m X_batch, y_float_batch, y_fixed_batch, r_batch \u001b[38;5;129;01min\u001b[39;00m loader:\n\u001b[1;32m     11\u001b[0m \n\u001b[1;32m     12\u001b[0m     \u001b[38;5;66;03m#.forward() method of the model, will output both V_float and V_fixed\u001b[39;00m\n\u001b[1;32m     13\u001b[0m     y_pred \u001b[38;5;241m=\u001b[39m model(X_batch, r_batch)\n\u001b[1;32m     14\u001b[0m     \u001b[38;5;66;03m#y_float_pred = y_pred\u001b[39;00m\n",
      "File \u001b[0;32m~/.local/lib/python3.11/site-packages/torch/utils/data/dataloader.py:626\u001b[0m, in \u001b[0;36m_BaseDataLoaderIter.__next__\u001b[0;34m(self)\u001b[0m\n\u001b[1;32m    625\u001b[0m \u001b[38;5;28;01mdef\u001b[39;00m \u001b[38;5;21m__next__\u001b[39m(\u001b[38;5;28mself\u001b[39m) \u001b[38;5;241m-\u001b[39m\u001b[38;5;241m>\u001b[39m Any:\n\u001b[0;32m--> 626\u001b[0m \u001b[43m    \u001b[49m\u001b[38;5;28;43;01mwith\u001b[39;49;00m\u001b[43m \u001b[49m\u001b[43mtorch\u001b[49m\u001b[38;5;241;43m.\u001b[39;49m\u001b[43mautograd\u001b[49m\u001b[38;5;241;43m.\u001b[39;49m\u001b[43mprofiler\u001b[49m\u001b[38;5;241;43m.\u001b[39;49m\u001b[43mrecord_function\u001b[49m\u001b[43m(\u001b[49m\u001b[38;5;28;43mself\u001b[39;49m\u001b[38;5;241;43m.\u001b[39;49m\u001b[43m_profile_name\u001b[49m\u001b[43m)\u001b[49m\u001b[43m:\u001b[49m\n\u001b[1;32m    627\u001b[0m \u001b[43m        \u001b[49m\u001b[38;5;28;43;01mif\u001b[39;49;00m\u001b[43m \u001b[49m\u001b[38;5;28;43mself\u001b[39;49m\u001b[38;5;241;43m.\u001b[39;49m\u001b[43m_sampler_iter\u001b[49m\u001b[43m \u001b[49m\u001b[38;5;129;43;01mis\u001b[39;49;00m\u001b[43m \u001b[49m\u001b[38;5;28;43;01mNone\u001b[39;49;00m\u001b[43m:\u001b[49m\n\u001b[1;32m    628\u001b[0m \u001b[43m            \u001b[49m\u001b[38;5;66;43;03m# TODO(https://github.com/pytorch/pytorch/issues/76750)\u001b[39;49;00m\n\u001b[1;32m    629\u001b[0m \u001b[43m            \u001b[49m\u001b[38;5;28;43mself\u001b[39;49m\u001b[38;5;241;43m.\u001b[39;49m\u001b[43m_reset\u001b[49m\u001b[43m(\u001b[49m\u001b[43m)\u001b[49m\u001b[43m  \u001b[49m\u001b[38;5;66;43;03m# type: ignore[call-arg]\u001b[39;49;00m\n",
      "File \u001b[0;32m~/.local/lib/python3.11/site-packages/torch/autograd/profiler.py:636\u001b[0m, in \u001b[0;36mrecord_function.__exit__\u001b[0;34m(self, exc_type, exc_value, traceback)\u001b[0m\n\u001b[1;32m    631\u001b[0m     \u001b[38;5;28mself\u001b[39m\u001b[38;5;241m.\u001b[39mrecord \u001b[38;5;241m=\u001b[39m torch\u001b[38;5;241m.\u001b[39mops\u001b[38;5;241m.\u001b[39mprofiler\u001b[38;5;241m.\u001b[39m_record_function_enter_new(\n\u001b[1;32m    632\u001b[0m         \u001b[38;5;28mself\u001b[39m\u001b[38;5;241m.\u001b[39mname, \u001b[38;5;28mself\u001b[39m\u001b[38;5;241m.\u001b[39margs\n\u001b[1;32m    633\u001b[0m     )\n\u001b[1;32m    634\u001b[0m     \u001b[38;5;28;01mreturn\u001b[39;00m \u001b[38;5;28mself\u001b[39m\n\u001b[0;32m--> 636\u001b[0m \u001b[38;5;28;01mdef\u001b[39;00m \u001b[38;5;21m__exit__\u001b[39m(\u001b[38;5;28mself\u001b[39m, exc_type: Any, exc_value: Any, traceback: Any):\n\u001b[1;32m    637\u001b[0m     \u001b[38;5;28;01mif\u001b[39;00m \u001b[38;5;129;01mnot\u001b[39;00m \u001b[38;5;28mself\u001b[39m\u001b[38;5;241m.\u001b[39mrun_callbacks_on_exit:\n\u001b[1;32m    638\u001b[0m         \u001b[38;5;28;01mreturn\u001b[39;00m\n",
      "\u001b[0;31mKeyboardInterrupt\u001b[0m: "
     ]
    }
   ],
   "source": [
    "#Define two lists to store training record\n",
    "training_loss = []\n",
    "validation_loss = []\n",
    "lrs = []\n",
    "\n",
    "#Define a tqdm loop to get a nice progress bar\n",
    "loop = tqdm(range(n_epochs))\n",
    "\n",
    "#Define an early stopping object\n",
    "early_stopping = EarlyStopping(patience)\n",
    "\n",
    "for epoch in loop:\n",
    "\n",
    "    #Set model in training mode\n",
    "    mymodel.train()\n",
    "\n",
    "    #Perform an epoch of training\n",
    "    train_loss = do_epoch(loader, mymodel, criterion, optimizer)\n",
    "\n",
    "    #Scheduler step\n",
    "    scheduler.step()\n",
    "\n",
    "    #Track the average over the batches\n",
    "    training_loss.append(train_loss)\n",
    "\n",
    "    \n",
    "    #Validation every 50 epochs\n",
    "    if epoch % 50 ==0:\n",
    "\n",
    "        with torch.no_grad():\n",
    "            #Set the model in eval mod\n",
    "            mymodel.eval()\n",
    "\n",
    "            test_loss = do_epoch(loader_test, mymodel, criterion, optimizer, training=False)\n",
    "\n",
    "            #Track the average loss over the batches\n",
    "            validation_loss.append(test_loss)\n",
    "\n",
    "        #Check early stopping\n",
    "        early_stopping(validation_loss[-1], mymodel)\n",
    "        if early_stopping.early_stop:\n",
    "\n",
    "            #Load the best set of parameters\n",
    "            mymodel.load_state_dict(torch.load(f'temp_state_dict{mymodel.name}.pt'))\n",
    "            print(f\"Early stopping at epoch {epoch}.\")\n",
    "            break\n",
    "\n",
    "    lrs.append(optimizer.param_groups[0][\"lr\"])\n",
    "            \n",
    "    #Give informations in the loop\n",
    "    loop.set_postfix(loss = train_loss, val_loss = test_loss, best_val_loss = early_stopping.best_score, counter=early_stopping.counter, lr= lrs[-1])\n"
   ]
  },
  {
   "cell_type": "code",
   "execution_count": null,
   "id": "a9923e8c-2f99-418d-ae64-03c26049650b",
   "metadata": {},
   "outputs": [],
   "source": [
    "#Plot training record & learning rate schedule\n",
    "\n",
    "plt.figure(figsize=(8,3))\n",
    "\n",
    "plt.subplot(1,2,1)\n",
    "plt.plot(training_loss, label='Train')\n",
    "val_epochs= np.linspace(0, len(training_loss), num=len(validation_loss))\n",
    "plt.plot(val_epochs, validation_loss, label='Val')\n",
    "plt.yscale('log')\n",
    "plt.legend()\n",
    "plt.grid()\n",
    "plt.xlabel('Epochs')\n",
    "plt.ylabel('log(MSE)')\n",
    "plt.title('Training ')\n",
    "\n",
    "plt.subplot(1,2,2)\n",
    "plt.plot(lrs)\n",
    "plt.grid()\n",
    "plt.xlabel('Epochs')\n",
    "plt.ylabel('lr')\n",
    "plt.title('Learning rate')\n",
    "\n",
    "plt.tight_layout()\n",
    "plt.show()"
   ]
  },
  {
   "cell_type": "code",
   "execution_count": null,
   "id": "de71ed94",
   "metadata": {},
   "outputs": [],
   "source": [
    "#Makes the predictions\n",
    "def predictions(dataset, model):\n",
    "\n",
    "    dataloader = DataLoader(dataset, shuffle=False, batch_size=1)\n",
    "\n",
    "    y_float_preds = torch.zeros(len(dataloader))\n",
    "    y_fixed_preds = torch.zeros(len(dataloader))\n",
    "    \n",
    "    y_fixed_trues = torch.zeros(len(dataloader))\n",
    "    y_float_trues = torch.zeros(len(dataloader))\n",
    "    \n",
    "    for i_sample, (X, y_float, y_fixed, r) in enumerate(dataloader):\n",
    "        with torch.no_grad():\n",
    "            \n",
    "            y_preds = model(X,r).cpu()\n",
    "            # FOCUS ON FIXED LEG\n",
    "            y_fixed_preds[i_sample] = y_preds#, y_fixed_preds[i_sample] = y_preds[0], y_preds[1]\n",
    "            y_float_trues[i_sample], y_fixed_trues[i_sample] = y_float.cpu(), y_fixed.cpu()\n",
    "            \n",
    "    return y_float_trues.numpy(), y_fixed_trues.numpy(), y_float_preds.numpy(), y_fixed_preds.numpy()"
   ]
  },
  {
   "cell_type": "code",
   "execution_count": null,
   "id": "a32b0591-2254-4eb1-8855-e6e97965d685",
   "metadata": {},
   "outputs": [],
   "source": [
    "#Get the predictions\n",
    "train_float_labels, train_fixed_labels, train_float_predictions, train_fixed_predictions = predictions(train_dataset, mymodel)\n",
    "test_float_labels, test_fixed_labels, test_float_predictions, test_fixed_predictions =predictions(test_dataset, mymodel)"
   ]
  },
  {
   "cell_type": "code",
   "execution_count": null,
   "id": "16015c3a-d121-447e-8e69-cb9f8840b6c6",
   "metadata": {},
   "outputs": [],
   "source": [
    "#Plot predictions (train)\n",
    "plt.figure(figsize=(10,5))#, dpi=300)\n",
    "\n",
    "#plt.subplot(1,2,1)\n",
    "plt.plot(train_float_labels, 'r-', label='$V(t+1)$ label')\n",
    "plt.plot(train_float_predictions, 'b-', label='Prediction')\n",
    "#plt.xlim(10,20)\n",
    "plt.grid()\n",
    "plt.legend()\n",
    "plt.title('Non-shifted float train')\n",
    "\n",
    "#plt.subplot(1,2,2)\n",
    "#plt.plot(train_float_labels[:-1], 'r.', label='$V(t+1)$ label')\n",
    "#plt.plot(train_float_predictions[1:], 'bx', label='Prediction')\n",
    "#plt.xlim(10,20)\n",
    "#plt.grid()\n",
    "#plt.legend()\n",
    "#plt.title('Shifted')\n",
    "\n",
    "#plt.tight_layout()\n",
    "#plt.show()"
   ]
  },
  {
   "cell_type": "code",
   "execution_count": null,
   "id": "e48ac1bb",
   "metadata": {},
   "outputs": [],
   "source": [
    "#Plot predictions (train)\n",
    "plt.figure(figsize=(10,5))#, dpi=300)\n",
    "\n",
    "#plt.subplot(1,2,1)\n",
    "plt.plot(train_fixed_labels, 'r-', label='$V(t+1)$ label')\n",
    "plt.plot(train_fixed_predictions, 'b-', label='Prediction')\n",
    "plt.xlim(0,400)\n",
    "plt.grid()\n",
    "plt.legend()\n",
    "plt.title('Non-shifted fixed train')"
   ]
  },
  {
   "cell_type": "code",
   "execution_count": null,
   "id": "54287efb",
   "metadata": {},
   "outputs": [],
   "source": [
    "#Plot predictions (train)\n",
    "plt.figure(figsize=(10,5))#, dpi=300)\n",
    "\n",
    "#plt.subplot(1,2,1)\n",
    "plt.plot(test_float_labels, 'r-', label='$V(t+1)$ label')\n",
    "plt.plot(test_float_predictions, 'b-', label='Prediction')\n",
    "plt.xlim(1000,1200)\n",
    "plt.grid()\n",
    "plt.legend()\n",
    "plt.title('Non-shifted float test')\n",
    "\n",
    "#plt.subplot(1,2,2)\n",
    "#plt.plot(train_float_labels[:-1], 'r.', label='$V(t+1)$ label')\n",
    "#plt.plot(train_float_predictions[1:], 'bx', label='Prediction')\n",
    "#plt.xlim(10,20)\n",
    "#plt.grid()\n",
    "#plt.legend()\n",
    "#plt.title('Shifted')\n",
    "\n",
    "#plt.tight_layout()\n",
    "#plt.show()"
   ]
  },
  {
   "cell_type": "code",
   "execution_count": null,
   "id": "cd31e015",
   "metadata": {},
   "outputs": [],
   "source": [
    "#Plot predictions (train)\n",
    "plt.figure(figsize=(10,5))#, dpi=300)\n",
    "\n",
    "#plt.subplot(1,2,1)\n",
    "plt.plot((test_fixed_labels), 'r-', label='$V(t+1)$ label')\n",
    "plt.plot((test_fixed_predictions), 'b-', label='Prediction')\n",
    "plt.xlim(160,300)\n",
    "plt.grid()\n",
    "plt.legend()\n",
    "plt.title('Non-shifted fixed test')\n",
    "\n",
    "#plt.subplot(1,2,2)\n",
    "#plt.plot(train_float_labels[:-1], 'r.', label='$V(t+1)$ label')\n",
    "#plt.plot(train_float_predictions[1:], 'bx', label='Prediction')\n",
    "#plt.xlim(10,20)\n",
    "#plt.grid()\n",
    "#plt.legend()\n",
    "#plt.title('Shifted')\n",
    "\n",
    "#plt.tight_layout()\n",
    "#plt.show()"
   ]
  },
  {
   "cell_type": "code",
   "execution_count": null,
   "id": "68ec1d00",
   "metadata": {},
   "outputs": [],
   "source": [
    "#Plot predictions (train)\n",
    "plt.figure(figsize=(10,5))#, dpi=300)\n",
    "\n",
    "#plt.subplot(1,2,1)\n",
    "plt.plot(test_fixed_labels[:-1], 'r-', label='$V(t+1)$ label')\n",
    "plt.plot(test_fixed_predictions[1:], 'b-', label='Prediction')\n",
    "plt.xlim(160,300)\n",
    "plt.grid()\n",
    "plt.legend()\n",
    "plt.title('shifted fixed test')\n",
    "\n",
    "#plt.subplot(1,2,2)\n",
    "#plt.plot(train_float_labels[:-1], 'r.', label='$V(t+1)$ label')\n",
    "#plt.plot(train_float_predictions[1:], 'bx', label='Prediction')\n",
    "#plt.xlim(10,20)\n",
    "#plt.grid()\n",
    "#plt.legend()\n",
    "#plt.title('Shifted')\n",
    "\n",
    "#plt.tight_layout()\n",
    "#plt.show()"
   ]
  },
  {
   "cell_type": "code",
   "execution_count": null,
   "id": "ed10709f-fd4f-406f-90fb-c7dd80e3cc85",
   "metadata": {},
   "outputs": [],
   "source": [
    "#Plot predictions (test)\n",
    "plt.figure(figsize=(6,3), dpi=300)\n",
    "\n",
    "plt.subplot(1,2,1)\n",
    "plt.plot(test_float_labels, 'r.', label='$V(t+1)$ label')\n",
    "plt.plot(test_float_predictions, 'bx', label='Prediction')\n",
    "#plt.xlim(100,150)\n",
    "plt.grid()\n",
    "plt.legend()\n",
    "plt.title('Non-shifted')\n",
    "\n",
    "plt.subplot(1,2,2)\n",
    "plt.plot(test_labels[:-1], 'r.', label='$V(t+1)$ label')\n",
    "plt.plot(test_predictions[1:], 'bx', label='Prediction')\n",
    "#plt.xlim(100,150)\n",
    "plt.grid()\n",
    "plt.legend()\n",
    "plt.title('Shifted')\n",
    "\n",
    "plt.tight_layout()\n",
    "plt.show()"
   ]
  },
  {
   "cell_type": "markdown",
   "id": "ec180788",
   "metadata": {},
   "source": [
    "If I try to compute the loss between targets and labels i find, as expected, the same best val loss I observed during training:"
   ]
  },
  {
   "cell_type": "markdown",
   "id": "120c3775",
   "metadata": {},
   "source": [
    "However, If i shift the arrays I find a better loss"
   ]
  },
  {
   "cell_type": "code",
   "execution_count": null,
   "id": "def992e4-312f-49aa-84e1-20570a29b6d1",
   "metadata": {},
   "outputs": [],
   "source": [
    "criterion(torch.tensor(test_fixed_labels), torch.tensor(test_fixed_predictions))"
   ]
  },
  {
   "cell_type": "code",
   "execution_count": null,
   "id": "2c020b93",
   "metadata": {},
   "outputs": [],
   "source": [
    "criterion(torch.tensor(test_fixed_labels[:-1]), torch.tensor(test_fixed_predictions[1:]))"
   ]
  }
 ],
 "metadata": {
  "kernelspec": {
   "display_name": "Python 3 (ipykernel)",
   "language": "python",
   "name": "python3"
  },
  "language_info": {
   "codemirror_mode": {
    "name": "ipython",
    "version": 3
   },
   "file_extension": ".py",
   "mimetype": "text/x-python",
   "name": "python",
   "nbconvert_exporter": "python",
   "pygments_lexer": "ipython3",
   "version": "3.11.7"
  }
 },
 "nbformat": 4,
 "nbformat_minor": 5
}
